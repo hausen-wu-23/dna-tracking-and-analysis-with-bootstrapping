{
 "cells": [
  {
   "cell_type": "markdown",
   "metadata": {},
   "source": [
    "# Trackpy Boostrapping\n",
    "### What is bootstrapping?\n",
    "Taking a random sample from a set of data multiple times and averaging them. This gives you the ability to add margin of error to the dataset.\n",
    "\n",
    "### What does this code do?\n",
    "It bootstraps a set of emsd calculated from trackpy."
   ]
  },
  {
   "cell_type": "code",
   "execution_count": null,
   "metadata": {},
   "outputs": [],
   "source": [
    "###################################################################################\n",
    "#                                  bootstrapping                                  #\n",
    "###################################################################################\n",
    "\n",
    "from scipy.optimize import curve_fit\n",
    "\n",
    "\n",
    "# list of effective diffusion coefficient and list of alpha\n",
    "lod = []\n",
    "loa = []\n",
    "\n",
    "\n",
    "# Run bootstrapping\n",
    "for i in range(40):\n",
    "    # select a random set of 80 trajectories, same trajectory can be picked multiple times, will be handled later\n",
    "    rand = np.random.choice(t2['particle'].unique(), 80)\n",
    "\n",
    "    # create dataframe according to the columns of original trajectories dataframe\n",
    "    t3 = pd.DataFrame(columns=t2.columns)\n",
    "\n",
    "    # save a list of already seen particles, for handling duplicate trajectories\n",
    "    # trackpy will not process the same particle - we need to generate random seed to spoof trackpy into thinking it's a different particle\n",
    "    alr_seen = []\n",
    "    for i in rand:\n",
    "        # find the trajectory of particle\n",
    "        df_t = t2[t2['particle'] == i]\n",
    "\n",
    "        # if not already seen, concatinate the trajectory\n",
    "        if i not in alr_seen:\n",
    "            t3 = pd.concat([t3, df_t])\n",
    "\n",
    "            # add to alrady seen\n",
    "            alr_seen.append(i)\n",
    "        else:\n",
    "            # generate random seed\n",
    "            k = np.random.randint(1000, 3939)\n",
    "\n",
    "            # run until the seed is unique\n",
    "            while k in alr_seen:\n",
    "                k = np.random.randint(1000, 3939)\n",
    "\n",
    "            # assign new particle id\n",
    "            df_t = df_t.assign(particle = k)\n",
    "\n",
    "            # add to datagrame\n",
    "            t3 = pd.concat([t3, df_t])\n",
    "\n",
    "            # add to already seen\n",
    "            alr_seen.append(k)"
   ]
  }
 ],
 "metadata": {
  "language_info": {
   "name": "python"
  },
  "orig_nbformat": 4
 },
 "nbformat": 4,
 "nbformat_minor": 2
}
